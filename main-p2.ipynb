{
 "cells": [
  {
   "cell_type": "markdown",
   "source": [
    "# **Final Project - Part 2**\n",
    "## Data Visualization\n",
    "*By Ethan Lee, Tyler Ngo, Diane Li, James Dai*"
   ],
   "metadata": {
    "collapsed": false
   }
  },
  {
   "cell_type": "markdown",
   "source": [
    "The second part of our submission is the data visualization section. In this\n",
    "section, we visualize and interpret the data that we collected in part 1."
   ],
   "metadata": {
    "collapsed": false
   }
  },
  {
   "cell_type": "markdown",
   "source": [
    "In the following data visualizations, our group explores\n",
    "the relationship between Apple's closing stock price and\n",
    "its daily corresponding Twitter sentiment. This is done by\n",
    "gathering 100 tweets a day via the Twitter API and putting\n",
    "it through Google Cloud Natural language processing. These\n",
    "graphs show the relationships between stock price and\n",
    "sentiment as well as those two values against time."
   ],
   "metadata": {
    "collapsed": false,
    "pycharm": {
     "name": "#%% md\n"
    }
   }
  },
  {
   "cell_type": "markdown",
   "source": [
    "We begin by importing the necessary libraries."
   ],
   "metadata": {
    "collapsed": false,
    "pycharm": {
     "name": "#%% md\n"
    }
   }
  },
  {
   "cell_type": "code",
   "execution_count": 100,
   "outputs": [],
   "source": [
    "import pandas as pd\n",
    "import glob\n",
    "import matplotlib.pyplot as plt\n",
    "from scipy.stats import linregress\n",
    "import numpy as np"
   ],
   "metadata": {
    "collapsed": false,
    "pycharm": {
     "name": "#%%\n"
    }
   }
  },
  {
   "cell_type": "markdown",
   "source": [
    "Now we read the twitter sentiment data into pandas dataframes. The nature of\n",
    "the data's original format requires that some housekeeping be done. The final\n",
    "result is a dataframe called *data* that contains 3 columns: tweets, the\n",
    "associated sentiment score, and the date that these values were recorded."
   ],
   "metadata": {
    "collapsed": false,
    "pycharm": {
     "name": "#%% md\n"
    }
   }
  },
  {
   "cell_type": "code",
   "execution_count": 101,
   "outputs": [
    {
     "data": {
      "text/plain": "                                                  tweet  sentiment        date\n0     b'Actress black widow 2020 HD Mobile Wallpaper...        0.2  2020-12-01\n1     b'RT @TmarTn: 2 PS5s\\nXbox Series X &amp; S\\nN...        0.0  2020-12-01\n2     b'RT @haeckerfelix: Running Purism Librem 5 sy...        0.0  2020-12-01\n3     b'Escucha la Mejor Estacion  LMM URBAN RADIO: ...        0.2  2020-12-01\n4                     b'iPhone https://t.co/59rmuhrM9I'        0.3  2020-12-01\n...                                                 ...        ...         ...\n1995  b\"RT @arkh: We'll give an iPhone 12 Pro MAX (2...        0.0  2020-11-30\n1996  b'RT @Flossycarter: iPhone 12/ 12 Pro / 12 Pro...        0.0  2020-11-30\n1997  b\"RT @arkh: We'll give an iPhone 12 Pro MAX (2...        0.0  2020-11-30\n1998  b'@tombatemann I have an iPhone 5. That guy is...       -0.5  2020-11-30\n1999  b\"RT @arkh: We'll give an iPhone 12 Pro MAX (2...        0.0  2020-11-30\n\n[2000 rows x 3 columns]",
      "text/html": "<div>\n<style scoped>\n    .dataframe tbody tr th:only-of-type {\n        vertical-align: middle;\n    }\n\n    .dataframe tbody tr th {\n        vertical-align: top;\n    }\n\n    .dataframe thead th {\n        text-align: right;\n    }\n</style>\n<table border=\"1\" class=\"dataframe\">\n  <thead>\n    <tr style=\"text-align: right;\">\n      <th></th>\n      <th>tweet</th>\n      <th>sentiment</th>\n      <th>date</th>\n    </tr>\n  </thead>\n  <tbody>\n    <tr>\n      <th>0</th>\n      <td>b'Actress black widow 2020 HD Mobile Wallpaper...</td>\n      <td>0.2</td>\n      <td>2020-12-01</td>\n    </tr>\n    <tr>\n      <th>1</th>\n      <td>b'RT @TmarTn: 2 PS5s\\nXbox Series X &amp;amp; S\\nN...</td>\n      <td>0.0</td>\n      <td>2020-12-01</td>\n    </tr>\n    <tr>\n      <th>2</th>\n      <td>b'RT @haeckerfelix: Running Purism Librem 5 sy...</td>\n      <td>0.0</td>\n      <td>2020-12-01</td>\n    </tr>\n    <tr>\n      <th>3</th>\n      <td>b'Escucha la Mejor Estacion  LMM URBAN RADIO: ...</td>\n      <td>0.2</td>\n      <td>2020-12-01</td>\n    </tr>\n    <tr>\n      <th>4</th>\n      <td>b'iPhone https://t.co/59rmuhrM9I'</td>\n      <td>0.3</td>\n      <td>2020-12-01</td>\n    </tr>\n    <tr>\n      <th>...</th>\n      <td>...</td>\n      <td>...</td>\n      <td>...</td>\n    </tr>\n    <tr>\n      <th>1995</th>\n      <td>b\"RT @arkh: We'll give an iPhone 12 Pro MAX (2...</td>\n      <td>0.0</td>\n      <td>2020-11-30</td>\n    </tr>\n    <tr>\n      <th>1996</th>\n      <td>b'RT @Flossycarter: iPhone 12/ 12 Pro / 12 Pro...</td>\n      <td>0.0</td>\n      <td>2020-11-30</td>\n    </tr>\n    <tr>\n      <th>1997</th>\n      <td>b\"RT @arkh: We'll give an iPhone 12 Pro MAX (2...</td>\n      <td>0.0</td>\n      <td>2020-11-30</td>\n    </tr>\n    <tr>\n      <th>1998</th>\n      <td>b'@tombatemann I have an iPhone 5. That guy is...</td>\n      <td>-0.5</td>\n      <td>2020-11-30</td>\n    </tr>\n    <tr>\n      <th>1999</th>\n      <td>b\"RT @arkh: We'll give an iPhone 12 Pro MAX (2...</td>\n      <td>0.0</td>\n      <td>2020-11-30</td>\n    </tr>\n  </tbody>\n</table>\n<p>2000 rows × 3 columns</p>\n</div>"
     },
     "execution_count": 101,
     "metadata": {},
     "output_type": "execute_result"
    }
   ],
   "source": [
    "#read all of the data into a csv file\n",
    "\n",
    "li = []\n",
    "dates = []\n",
    "paths = glob.glob(\"data/*.csv\")\n",
    "\n",
    "for filename in paths:\n",
    "    str = \"data/\" + filename[5:]\n",
    "    df = pd.read_csv(str, names=['tweet', 'sentiment'])\n",
    "\n",
    "    if (filename[5:8] == 'nov'):\n",
    "        df['date'] = '2020-11-' + filename[8:10]\n",
    "    else:\n",
    "        df['date'] = '2020-12-' + filename[8:10]\n",
    "\n",
    "    li.append(df)\n",
    "\n",
    "data = pd.concat(li, ignore_index=True)\n",
    "data"
   ],
   "metadata": {
    "collapsed": false,
    "pycharm": {
     "name": "#%%\n"
    }
   }
  },
  {
   "cell_type": "markdown",
   "source": [
    "Now we read the stock data that corresponds to the dates into a dataframe from\n",
    "a csv file."
   ],
   "metadata": {
    "collapsed": false,
    "pycharm": {
     "name": "#%% md\n"
    }
   }
  },
  {
   "cell_type": "code",
   "execution_count": 102,
   "outputs": [
    {
     "data": {
      "text/plain": "          date  apple_stock_closing_price ($)\n0   2020-11-09                         116.32\n1   2020-11-10                         115.97\n2   2020-11-11                         119.49\n3   2020-11-12                         119.21\n4   2020-11-13                         119.26\n5   2020-11-16                         120.30\n6   2020-11-17                         119.39\n7   2020-11-18                         118.03\n8   2020-11-19                         118.64\n9   2020-11-20                         117.34\n10  2020-11-23                         113.85\n11  2020-11-24                         115.17\n12  2020-11-25                         116.03\n13  2020-11-27                         116.59\n14  2020-11-30                         119.05\n15  2020-12-01                         122.72\n16  2020-12-02                         123.08\n17  2020-12-03                         122.94\n18  2020-12-04                         122.25\n19  2020-12-07                         123.75",
      "text/html": "<div>\n<style scoped>\n    .dataframe tbody tr th:only-of-type {\n        vertical-align: middle;\n    }\n\n    .dataframe tbody tr th {\n        vertical-align: top;\n    }\n\n    .dataframe thead th {\n        text-align: right;\n    }\n</style>\n<table border=\"1\" class=\"dataframe\">\n  <thead>\n    <tr style=\"text-align: right;\">\n      <th></th>\n      <th>date</th>\n      <th>apple_stock_closing_price ($)</th>\n    </tr>\n  </thead>\n  <tbody>\n    <tr>\n      <th>0</th>\n      <td>2020-11-09</td>\n      <td>116.32</td>\n    </tr>\n    <tr>\n      <th>1</th>\n      <td>2020-11-10</td>\n      <td>115.97</td>\n    </tr>\n    <tr>\n      <th>2</th>\n      <td>2020-11-11</td>\n      <td>119.49</td>\n    </tr>\n    <tr>\n      <th>3</th>\n      <td>2020-11-12</td>\n      <td>119.21</td>\n    </tr>\n    <tr>\n      <th>4</th>\n      <td>2020-11-13</td>\n      <td>119.26</td>\n    </tr>\n    <tr>\n      <th>5</th>\n      <td>2020-11-16</td>\n      <td>120.30</td>\n    </tr>\n    <tr>\n      <th>6</th>\n      <td>2020-11-17</td>\n      <td>119.39</td>\n    </tr>\n    <tr>\n      <th>7</th>\n      <td>2020-11-18</td>\n      <td>118.03</td>\n    </tr>\n    <tr>\n      <th>8</th>\n      <td>2020-11-19</td>\n      <td>118.64</td>\n    </tr>\n    <tr>\n      <th>9</th>\n      <td>2020-11-20</td>\n      <td>117.34</td>\n    </tr>\n    <tr>\n      <th>10</th>\n      <td>2020-11-23</td>\n      <td>113.85</td>\n    </tr>\n    <tr>\n      <th>11</th>\n      <td>2020-11-24</td>\n      <td>115.17</td>\n    </tr>\n    <tr>\n      <th>12</th>\n      <td>2020-11-25</td>\n      <td>116.03</td>\n    </tr>\n    <tr>\n      <th>13</th>\n      <td>2020-11-27</td>\n      <td>116.59</td>\n    </tr>\n    <tr>\n      <th>14</th>\n      <td>2020-11-30</td>\n      <td>119.05</td>\n    </tr>\n    <tr>\n      <th>15</th>\n      <td>2020-12-01</td>\n      <td>122.72</td>\n    </tr>\n    <tr>\n      <th>16</th>\n      <td>2020-12-02</td>\n      <td>123.08</td>\n    </tr>\n    <tr>\n      <th>17</th>\n      <td>2020-12-03</td>\n      <td>122.94</td>\n    </tr>\n    <tr>\n      <th>18</th>\n      <td>2020-12-04</td>\n      <td>122.25</td>\n    </tr>\n    <tr>\n      <th>19</th>\n      <td>2020-12-07</td>\n      <td>123.75</td>\n    </tr>\n  </tbody>\n</table>\n</div>"
     },
     "execution_count": 102,
     "metadata": {},
     "output_type": "execute_result"
    }
   ],
   "source": [
    "stocks = pd.read_csv(\"stocks.csv\")\n",
    "stocks"
   ],
   "metadata": {
    "collapsed": false,
    "pycharm": {
     "name": "#%%\n"
    }
   }
  },
  {
   "cell_type": "markdown",
   "source": [
    "After grouping by dates and counting the number of values in *data*, we can see\n",
    "that there was 100 data points associated with each date. This is how many that\n",
    "the Twitter API allowed us to collect."
   ],
   "metadata": {
    "collapsed": false,
    "pycharm": {
     "name": "#%% md\n"
    }
   }
  },
  {
   "cell_type": "code",
   "execution_count": 103,
   "outputs": [
    {
     "data": {
      "text/plain": "            tweet  sentiment\ndate                        \n2020-11-09    100        100\n2020-11-10    100        100\n2020-11-11    100        100\n2020-11-12    100        100\n2020-11-13    100        100\n2020-11-16    100        100\n2020-11-17    100        100\n2020-11-18    100        100\n2020-11-19    100        100\n2020-11-20    100        100\n2020-11-23    100        100\n2020-11-24    100        100\n2020-11-25    100        100\n2020-11-27    100        100\n2020-11-30    100        100\n2020-12-01    100        100\n2020-12-02    100        100\n2020-12-03    100        100\n2020-12-04    100        100\n2020-12-7.    100        100",
      "text/html": "<div>\n<style scoped>\n    .dataframe tbody tr th:only-of-type {\n        vertical-align: middle;\n    }\n\n    .dataframe tbody tr th {\n        vertical-align: top;\n    }\n\n    .dataframe thead th {\n        text-align: right;\n    }\n</style>\n<table border=\"1\" class=\"dataframe\">\n  <thead>\n    <tr style=\"text-align: right;\">\n      <th></th>\n      <th>tweet</th>\n      <th>sentiment</th>\n    </tr>\n    <tr>\n      <th>date</th>\n      <th></th>\n      <th></th>\n    </tr>\n  </thead>\n  <tbody>\n    <tr>\n      <th>2020-11-09</th>\n      <td>100</td>\n      <td>100</td>\n    </tr>\n    <tr>\n      <th>2020-11-10</th>\n      <td>100</td>\n      <td>100</td>\n    </tr>\n    <tr>\n      <th>2020-11-11</th>\n      <td>100</td>\n      <td>100</td>\n    </tr>\n    <tr>\n      <th>2020-11-12</th>\n      <td>100</td>\n      <td>100</td>\n    </tr>\n    <tr>\n      <th>2020-11-13</th>\n      <td>100</td>\n      <td>100</td>\n    </tr>\n    <tr>\n      <th>2020-11-16</th>\n      <td>100</td>\n      <td>100</td>\n    </tr>\n    <tr>\n      <th>2020-11-17</th>\n      <td>100</td>\n      <td>100</td>\n    </tr>\n    <tr>\n      <th>2020-11-18</th>\n      <td>100</td>\n      <td>100</td>\n    </tr>\n    <tr>\n      <th>2020-11-19</th>\n      <td>100</td>\n      <td>100</td>\n    </tr>\n    <tr>\n      <th>2020-11-20</th>\n      <td>100</td>\n      <td>100</td>\n    </tr>\n    <tr>\n      <th>2020-11-23</th>\n      <td>100</td>\n      <td>100</td>\n    </tr>\n    <tr>\n      <th>2020-11-24</th>\n      <td>100</td>\n      <td>100</td>\n    </tr>\n    <tr>\n      <th>2020-11-25</th>\n      <td>100</td>\n      <td>100</td>\n    </tr>\n    <tr>\n      <th>2020-11-27</th>\n      <td>100</td>\n      <td>100</td>\n    </tr>\n    <tr>\n      <th>2020-11-30</th>\n      <td>100</td>\n      <td>100</td>\n    </tr>\n    <tr>\n      <th>2020-12-01</th>\n      <td>100</td>\n      <td>100</td>\n    </tr>\n    <tr>\n      <th>2020-12-02</th>\n      <td>100</td>\n      <td>100</td>\n    </tr>\n    <tr>\n      <th>2020-12-03</th>\n      <td>100</td>\n      <td>100</td>\n    </tr>\n    <tr>\n      <th>2020-12-04</th>\n      <td>100</td>\n      <td>100</td>\n    </tr>\n    <tr>\n      <th>2020-12-7.</th>\n      <td>100</td>\n      <td>100</td>\n    </tr>\n  </tbody>\n</table>\n</div>"
     },
     "execution_count": 103,
     "metadata": {},
     "output_type": "execute_result"
    }
   ],
   "source": [
    "data.groupby('date').count()"
   ],
   "metadata": {
    "collapsed": false,
    "pycharm": {
     "name": "#%%\n"
    }
   }
  },
  {
   "cell_type": "markdown",
   "source": [
    "In order to make *data* useful for visualization, we decided to sum the sentiment\n",
    " values after grouping by dates."
   ],
   "metadata": {
    "collapsed": false,
    "pycharm": {
     "name": "#%% md\n"
    }
   }
  },
  {
   "cell_type": "code",
   "execution_count": 104,
   "outputs": [
    {
     "data": {
      "text/plain": "            sentiment\ndate                 \n2020-11-09       -1.2\n2020-11-10       -5.0\n2020-11-11       -5.8\n2020-11-12      -12.7\n2020-11-13       -4.9\n2020-11-16       -1.7\n2020-11-17       -7.8\n2020-11-18        1.2\n2020-11-19       -8.3\n2020-11-20       -0.5\n2020-11-23       -2.1\n2020-11-24       -8.2\n2020-11-25       -1.1\n2020-11-27       -4.4\n2020-11-30       -2.9\n2020-12-01       -1.9\n2020-12-02      -22.6\n2020-12-03       -1.6\n2020-12-04       -5.0\n2020-12-7.       -2.3",
      "text/html": "<div>\n<style scoped>\n    .dataframe tbody tr th:only-of-type {\n        vertical-align: middle;\n    }\n\n    .dataframe tbody tr th {\n        vertical-align: top;\n    }\n\n    .dataframe thead th {\n        text-align: right;\n    }\n</style>\n<table border=\"1\" class=\"dataframe\">\n  <thead>\n    <tr style=\"text-align: right;\">\n      <th></th>\n      <th>sentiment</th>\n    </tr>\n    <tr>\n      <th>date</th>\n      <th></th>\n    </tr>\n  </thead>\n  <tbody>\n    <tr>\n      <th>2020-11-09</th>\n      <td>-1.2</td>\n    </tr>\n    <tr>\n      <th>2020-11-10</th>\n      <td>-5.0</td>\n    </tr>\n    <tr>\n      <th>2020-11-11</th>\n      <td>-5.8</td>\n    </tr>\n    <tr>\n      <th>2020-11-12</th>\n      <td>-12.7</td>\n    </tr>\n    <tr>\n      <th>2020-11-13</th>\n      <td>-4.9</td>\n    </tr>\n    <tr>\n      <th>2020-11-16</th>\n      <td>-1.7</td>\n    </tr>\n    <tr>\n      <th>2020-11-17</th>\n      <td>-7.8</td>\n    </tr>\n    <tr>\n      <th>2020-11-18</th>\n      <td>1.2</td>\n    </tr>\n    <tr>\n      <th>2020-11-19</th>\n      <td>-8.3</td>\n    </tr>\n    <tr>\n      <th>2020-11-20</th>\n      <td>-0.5</td>\n    </tr>\n    <tr>\n      <th>2020-11-23</th>\n      <td>-2.1</td>\n    </tr>\n    <tr>\n      <th>2020-11-24</th>\n      <td>-8.2</td>\n    </tr>\n    <tr>\n      <th>2020-11-25</th>\n      <td>-1.1</td>\n    </tr>\n    <tr>\n      <th>2020-11-27</th>\n      <td>-4.4</td>\n    </tr>\n    <tr>\n      <th>2020-11-30</th>\n      <td>-2.9</td>\n    </tr>\n    <tr>\n      <th>2020-12-01</th>\n      <td>-1.9</td>\n    </tr>\n    <tr>\n      <th>2020-12-02</th>\n      <td>-22.6</td>\n    </tr>\n    <tr>\n      <th>2020-12-03</th>\n      <td>-1.6</td>\n    </tr>\n    <tr>\n      <th>2020-12-04</th>\n      <td>-5.0</td>\n    </tr>\n    <tr>\n      <th>2020-12-7.</th>\n      <td>-2.3</td>\n    </tr>\n  </tbody>\n</table>\n</div>"
     },
     "execution_count": 104,
     "metadata": {},
     "output_type": "execute_result"
    }
   ],
   "source": [
    "by_date_sum = data.groupby('date').sum()\n",
    "by_date_sum"
   ],
   "metadata": {
    "collapsed": false,
    "pycharm": {
     "name": "#%%\n"
    }
   }
  },
  {
   "cell_type": "markdown",
   "source": [
    "A brief look at the scatter plots of the two dataframes shows that the data do\n",
    "not look particularly similar in shape."
   ],
   "metadata": {
    "collapsed": false,
    "pycharm": {
     "name": "#%% md\n"
    }
   }
  },
  {
   "cell_type": "code",
   "execution_count": 105,
   "outputs": [
    {
     "data": {
      "text/plain": "[<matplotlib.axis.XTick at 0x1a0cf6d0>,\n <matplotlib.axis.XTick at 0x1a0cf6b8>,\n <matplotlib.axis.XTick at 0x1a0e7100>,\n <matplotlib.axis.XTick at 0x1a0e7688>,\n <matplotlib.axis.XTick at 0x1a0e7490>,\n <matplotlib.axis.XTick at 0x1a0e7a78>,\n <matplotlib.axis.XTick at 0x1a0e7d00>]"
     },
     "execution_count": 105,
     "metadata": {},
     "output_type": "execute_result"
    },
    {
     "data": {
      "text/plain": "<Figure size 432x288 with 1 Axes>",
      "image/png": "[encoded data removed]"
     },
     "metadata": {
      "needs_background": "light"
     },
     "output_type": "display_data"
    },
    {
     "data": {
      "text/plain": "<Figure size 432x288 with 1 Axes>",
      "image/png": "[encoded data removed]"
     },
     "metadata": {
      "needs_background": "light"
     },
     "output_type": "display_data"
    }
   ],
   "source": [
    "def trim(str):\n",
    "    return str[5:]\n",
    "dates_t = by_date_sum.reset_index().get(\"date\").apply(trim)\n",
    "\n",
    "ax1 = by_date_sum.reset_index().assign(dates_2020=dates_t).plot(kind=\"scatter\", x='dates_2020', y='sentiment')\n",
    "ax2 = stocks.reset_index().assign(dates_2020=dates_t).plot(kind=\"scatter\", x=\"dates_2020\", y=\"apple_stock_closing_price ($)\")\n",
    "ax1.set_xticks(ax1.get_xticks()[::3])\n",
    "ax2.set_xticks(ax2.get_xticks()[::3])"
   ],
   "metadata": {
    "collapsed": false,
    "pycharm": {
     "name": "#%%\n"
    }
   }
  },
  {
   "cell_type": "markdown",
   "source": [
    "We now plot a scatter plot with x being twitter sentiment and y being the stock\n",
    "price associated with it. We see that there is not a very strong correlation, if\n",
    "any."
   ],
   "metadata": {
    "collapsed": false,
    "pycharm": {
     "name": "#%% md\n"
    }
   }
  },
  {
   "cell_type": "code",
   "execution_count": 106,
   "outputs": [
    {
     "data": {
      "text/plain": "<AxesSubplot:xlabel='sentiment', ylabel='stock_price'>"
     },
     "execution_count": 106,
     "metadata": {},
     "output_type": "execute_result"
    },
    {
     "data": {
      "text/plain": "<Figure size 432x288 with 1 Axes>",
      "image/png": "[encoded data removed]"
     },
     "metadata": {
      "needs_background": "light"
     },
     "output_type": "display_data"
    }
   ],
   "source": [
    "df = stocks.assign(\n",
    "    sentiment=by_date_sum.reset_index().get(\"sentiment\"),\n",
    "    stock_price=stocks.reset_index().get(\"apple_stock_closing_price ($)\")\n",
    ")\n",
    "df.plot(\n",
    "    kind='scatter',\n",
    "    x='sentiment',\n",
    "    y='stock_price'\n",
    ")"
   ],
   "metadata": {
    "collapsed": false,
    "pycharm": {
     "name": "#%%\n"
    }
   }
  },
  {
   "cell_type": "markdown",
   "source": [
    "Now, using a scipy.stats function, we calculate the slope, intercept, and r-value\n",
    "of the regression line."
   ],
   "metadata": {
    "collapsed": false,
    "pycharm": {
     "name": "#%% md\n"
    }
   }
  },
  {
   "cell_type": "code",
   "execution_count": 107,
   "outputs": [],
   "source": [
    "lr = linregress(\n",
    "    x=by_date_sum.reset_index().get(\"sentiment\"),\n",
    "    y=stocks.reset_index().get(\"apple_stock_closing_price ($)\")\n",
    ")\n",
    "\n",
    "slope = lr[0]\n",
    "intercept = lr[1]\n",
    "r = lr[2]"
   ],
   "metadata": {
    "collapsed": false,
    "pycharm": {
     "name": "#%%\n"
    }
   }
  },
  {
   "cell_type": "markdown",
   "source": [
    "Using the data collected above, we plotted a linear regression line alongside\n",
    "of the previous scatter plot. Below this, the value of the correlation\n",
    "coefficient r is printed."
   ],
   "metadata": {
    "collapsed": false,
    "pycharm": {
     "name": "#%% md\n"
    }
   }
  },
  {
   "cell_type": "code",
   "execution_count": 108,
   "outputs": [
    {
     "name": "stdout",
     "output_type": "stream",
     "text": [
      "Value of r: \n",
      "-0.24332341564658164\n"
     ]
    },
    {
     "data": {
      "text/plain": "<Figure size 432x288 with 1 Axes>",
      "image/png": "[encoded data removed]"
     },
     "metadata": {
      "needs_background": "light"
     },
     "output_type": "display_data"
    }
   ],
   "source": [
    "df.plot(\n",
    "    kind='scatter',\n",
    "    x='sentiment',\n",
    "    y='stock_price'\n",
    ")\n",
    "x = np.arange(-25,5,1)\n",
    "plt.plot(x, slope * x + intercept, color='C1')\n",
    "\n",
    "print(\"Value of r: \")\n",
    "print(r)"
   ],
   "metadata": {
    "collapsed": false,
    "pycharm": {
     "name": "#%%\n"
    }
   }
  },
  {
   "cell_type": "markdown",
   "source": [
    "## Conclusion\n",
    "From the calculated value of r, we conclude that although there seems to be a\n",
    "very slight negative correlation between Twitter sentiment on a given day and\n",
    "the closing stock price, it is not substantial enough to concretely establish the\n",
    "presence of a relationship."
   ],
   "metadata": {
    "collapsed": false,
    "pycharm": {
     "name": "#%% md\n"
    }
   }
  }
 ],
 "metadata": {
  "kernelspec": {
   "display_name": "Python 3",
   "language": "python",
   "name": "python3"
  },
  "language_info": {
   "codemirror_mode": {
    "name": "ipython",
    "version": 2
   },
   "file_extension": ".py",
   "mimetype": "text/x-python",
   "name": "python",
   "nbconvert_exporter": "python",
   "pygments_lexer": "ipython2",
   "version": "2.7.6"
  }
 },
 "nbformat": 4,
 "nbformat_minor": 0
}