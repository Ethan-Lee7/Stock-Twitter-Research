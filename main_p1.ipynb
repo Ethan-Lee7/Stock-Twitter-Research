{
 "cells": [
  {
   "cell_type": "markdown",
   "source": [
    "# **Final Project - Part 1**\n",
    "## Data Collection\n",
    "*By Ethan Lee, Tyler Ngo, Diane Li, James Dai*"
   ],
   "metadata": {
    "collapsed": false
   }
  },
  {
   "cell_type": "markdown",
   "source": [
    "The first part of our submission details the code that was\n",
    "used to collect the stock sentiment data that is included in\n",
    "the submission."
   ],
   "metadata": {
    "collapsed": false
   }
  },
  {
   "cell_type": "markdown",
   "source": [
    "We begin by importing the necessary files."
   ],
   "metadata": {
    "collapsed": false
   }
  },
  {
   "cell_type": "code",
   "execution_count": 19,
   "outputs": [],
   "source": [
    "import requests\n",
    "import os\n",
    "from google.cloud import language_v1\n",
    "import csv"
   ],
   "metadata": {
    "collapsed": false,
    "pycharm": {
     "name": "#%%\n"
    }
   }
  },
  {
   "cell_type": "markdown",
   "source": [
    "We then proceed with both authorization and authentication\n",
    "through the use of a bearer token. This token is generated\n",
    "when an individual creates a Twitter developer account for\n",
    "purpose of utilizing the API. We then make a request to the\n",
    "Twitter api for the information that we are looking for. The\n",
    "bearer token is included in this request as a header. The\n",
    "results of the request are stored in a json file. Note that\n",
    "one of the arguments given to the API request is the date that\n",
    "we plan on parsing."
   ],
   "metadata": {
    "collapsed": false,
    "pycharm": {
     "name": "#%% md\n"
    }
   }
  },
  {
   "cell_type": "code",
   "execution_count": 13,
   "outputs": [
    {
     "name": "stdout",
     "output_type": "stream",
     "text": [
      "length: 100\n"
     ]
    }
   ],
   "source": [
    "bearer = open('bearer.txt', 'r').read()\n",
    "h = {\n",
    "    \"Authorization\": bearer\n",
    "}\n",
    "\n",
    "result = requests.get(\"https://api.twitter.com/1.1/search/tweets.json?q=iphone&lang=en&until=2020-12-18&include_entities=true&count=100\", headers=h)\n",
    "tweets = result.json()[\"statuses\"]\n",
    "print(\"length:\", len(tweets))"
   ],
   "metadata": {
    "collapsed": false,
    "pycharm": {
     "name": "#%%\n"
    }
   }
  },
  {
   "cell_type": "markdown",
   "source": [
    "We now parse the json file into a list of individual tweets."
   ],
   "metadata": {
    "collapsed": false,
    "pycharm": {
     "name": "#%% md\n"
    }
   }
  },
  {
   "cell_type": "code",
   "execution_count": 20,
   "outputs": [
    {
     "data": {
      "text/plain": "['RT @DJAB_1998: iPhone shoot📲 \\n\\nSunset Vibe ✨ https://t.co/irPagaxCLW',\n 'RT @UberFacts: Steve Jobs invented the iPhone out of spite because he hated a particular Microsoft employee',\n \"RT @jamescharles: Today's Sismas Box includes an iPhone 12 📱👀 Find out how to enter on my Instagram story now!\",\n \"RT @ZackSnyder: Gal's first day on set in the costume July 2014, shot on my iPhone 6. I knew when I cast her back in the fall of 2013 she w…\",\n '@tim_cook How about stereo photography \\nAsk @DrBrianMay all about it and put two lenses at either end of the iPhone… https://t.co/5pNvReobeK',\n 'Idk what color to do my iPhone aesthetic , but I know I’m ready to change it 😩',\n '@paigewalmsleyx Receiving notifications for messages is important, so we’d like to help. To begin, let’s make sure… https://t.co/2AS9gOFZYX',\n 'AND- my copies were made via iPhone scanning app. It was so time consuming but my students were amazing',\n '@SpazzWesson I have an iphone',\n 'RT @wccftech: iOS 14.3 Battery Test Against iOS 14.2 on Older iPhone Models – Has it Improved? https://t.co/Mn1YP8HW3b https://t.co/H9Q82IE…',\n '181 users just unfollowed me. Via @FindUnfollower https://t.co/RUSD8yP3RA. #iPhone #App',\n \"RT @IMHOtheShow: ATTENTION: It is a sacred day. It is @aunty_chan's birthday! To celebrate, enjoy these early IMHO clips (iPhone 5 video lo…\",\n \"@TeniEntertainer Just an iPhone ma'am\",\n '17 awesome users just followed me. Via @FindUnfollower https://t.co/RUSD8yP3RA. #iPhone #App',\n \"@__naaomiii Can't I don't have an iphone\",\n 'I’ve had an iPhone for well over a year now and still forget how to turn it off lmao',\n 'RT @eshinesalways: People refuse to renew their minds so they fall behind its like an iPhone thats not updated it starts tweaking and malfu…',\n 'RT @jaboukie: the way you named your child after an iphone strong password',\n 'iPhone',\n 'RT @_OmoniOla: Wait o, so we wey no get IPhone or Apple music  on our Android cannot listen to #SHOW, oga o\\n#StreamSHOW',\n \"RT @ZackSnyder: Gal's first day on set in the costume July 2014, shot on my iPhone 6. I knew when I cast her back in the fall of 2013 she w…\",\n \"I refuse to get a new iPhone til it's super donezo and still might keep if it makes calls. If only I could screen s… https://t.co/upUYn6v5Oc\",\n 'RT @Phroosh77: @RonSeoulOh Regards, (Mon-Thurs)\\nCheers, (Friday)\\nMatt  Sent from iPhone  (Sat-Sun)',\n '@beomzito twitter for iphone',\n 'RT @celestfia: technoblade: is one of the biggest minecraft youtubers\\nalso technoblade: has broken glasses held together by scotch tape, an…',\n \"RT @ZackSnyder: Gal's first day on set in the costume July 2014, shot on my iPhone 6. I knew when I cast her back in the fall of 2013 she w…\",\n 'RT @vickyxiiv: Hi guys my phone got stolen please be on the look out for a black iPhone xr. Glitter skin, profile picture is myself with a…',\n '@NYCTBus @NYCTBus\\n I have remove your MTA bus time app from my Apple iPhone 6S now good bye my good old friend MTA! ??????? :(',\n '@onlytruenhat Me: iPhone 12 mini\\nMom: iPhone 12 mini\\nDad: iPhone 12 mini\\nSib: iPhone 5S \\nGrandma: flip phone\\n\\nThat’… https://t.co/cAI6ac5QHd',\n 'RT @alexxhinson: iphone photos from the redwoods https://t.co/hakjQAkeSl',\n 'RT @jaboukie: the way you named your child after an iphone strong password',\n 'It’s always incredible to me when people TWEET from their IPHONE about how they hate capitalism. Really? All those… https://t.co/i398UN7dqX',\n 'Okay so my parents arw divorced and I have 2 phones 1 at each oarent so I have an android at my moms and an iphone… https://t.co/6CFOuaMPKr',\n 'RT @AmiAmiGocco: Excited to share the latest addition to my #etsy shop: Kawaii Bear Cell Phone Pouch with Wristlet iPhone Pouch Cell Phone…',\n '@Goodfellowltd All done❤️ would be amazing to win the IPhone 12 as mine is so old with the screen cracked. It is al… https://t.co/dhUexyIfHW',\n '@deryckCG Hmmm iPhone..',\n '@LisaMcCray If you have an iPhone. Apple has its own service like that.',\n '@Ghxstss_ @liltjay Whats ur Iphone josh',\n '@jendudley Id like the same sentiment, but be talking about repairing your iphone how you choose',\n 'It about to go down latest sologa of de year \\n#urgent \\n#2k\\n#girls\\n#party\\n#dis \\n#decmber\\n#iphone\\n#kill yourself https://t.co/YhxnrlXfgB',\n \"RT @ZackSnyder: Gal's first day on set in the costume July 2014, shot on my iPhone 6. I knew when I cast her back in the fall of 2013 she w…\",\n 'Nightscape iPhone Soft Case https://t.co/RUcx1VZJto https://t.co/QdN6C8BuN2',\n '@waynegadgett TRUSTED SELLER , IG 💯💯😍😍\\nRECCOMENDED GUYS BELI2 IPHONE DI WAYNE GADGET ❤️🧡💛💚💙💜',\n '@EE not getting the best updates on a new iPhone for Xmas..... are you screwed on stock??? Better to let us know in… https://t.co/hgw2MeaB70',\n 'ik this is something miniscule but knowing louis uses an android for his personal use is just 🥺🥺 so yall can fuck o… https://t.co/DF11RAhLjF',\n 'With the arrest of Comrade Srikanth for instigating violence at Wistron iPhone making facility\\nin Kolar, the anti-d… https://t.co/XOKKiAn8PI',\n 'RT @EE: Sports fans, don’t get #PlanEnvy. Get the all new BT Sport app on the Full Works Plan made for iPhone.',\n 'RT @UberFacts: Steve Jobs invented the iPhone out of spite because he hated a particular Microsoft employee',\n 'RT @LouisWTNews: Currently Trending under Pop/Louis Tomlinson: \\n\\n• COME BACK \\n• Walls \\n• clifford \\n• TikTok \\n• Brazil \\n• iPhone \\n• Lewis \\n•…',\n '@kcirezz @tim_cook NO! No one with an iPhone wants that',\n 'RT @DannyWalta: Night Mode on IPhone 12 Pro Max 🧸 https://t.co/y9Xjj7kIxQ',\n \"RT @ZackSnyder: Gal's first day on set in the costume July 2014, shot on my iPhone 6. I knew when I cast her back in the fall of 2013 she w…\",\n \"RT @ZackSnyder: Gal's first day on set in the costume July 2014, shot on my iPhone 6. I knew when I cast her back in the fall of 2013 she w…\",\n 'RT @jaboukie: the way you named your child after an iphone strong password',\n '@Joelishorny Mfs get an iphone and stop being antisocial 😭😭',\n '@_JonWood @bobpockrass Ha! You’re on your iPhone...it’s started👍😂',\n \"RT @NBCNews: Facebook on Thursday ran its second full-page newspaper ad in as many days, attacking Apple's plans to tell iPhone and iPad us…\",\n 'iPhone wrong forreal for that inverted camera all these years. I felt like a creature off the hills have eyes.',\n 'Now that I finally got this iPhone 12 though I’ma up my game a lil😏',\n 'iPhone 12, now available in southy.',\n 'iPhone 12 Mini - REAL Day in the Life Review! https://t.co/kPCF6ww9O4 via @YouTube',\n \"RT @Par1Ke: The propagandist of China's Communist Party, subtly threatening the other partners of Apple Inc such as Foxconn, asked whether…\",\n 'RT @itsbriancuh: Damm, I think they got me the iPhone 12 https://t.co/bYTWrOnGGU',\n 'People refuse to renew their minds so they fall behind its like an iPhone thats not updated it starts tweaking and… https://t.co/fqeqNiFR9m',\n '@Syaaaaaafiqqqq uhuk uhuk twitter for iphone 😝',\n 'RT @Manuel_Cyrill: Neatly used factory unlocked IPhones KINDLY RT🙏\\n\\n1. 8 plus 64gb Gh¢2100 \\n256gig Gh¢2350\\n\\n2. Iphone 7plus \\n32gig Gh¢1550…',\n '@Nick_Wilko_ Hi Wilko, I must admit to using an iPhone and Spotify for most podcasts and downloads and subscribe on… https://t.co/iZ0bITLNIa',\n '@4rtisticVante iphone',\n \"RT @ZackSnyder: Gal's first day on set in the costume July 2014, shot on my iPhone 6. I knew when I cast her back in the fall of 2013 she w…\",\n '@Cr7Goldie Like beta iphone updates lol. Test server shit',\n 'RT @AmiAmiGocco: Excited to share the latest addition to my #etsy shop: Kawaii Bear Cell Phone Pouch with Wristlet iPhone Pouch Cell Phone…',\n '@dvstylr Was that taken on an iPhone? One of the viewfinder. Did you get my Tweet?',\n \"@tim_cook I think I'm going to get an iPhone for my next device because Apple emphasizes the importance of free spe… https://t.co/BsJCcOFka3\",\n 'I miss my iPhone 😔🤚🏾',\n 'RT @plantbasedbaddi: If you are an OnlyFans creator using an iphone for your photos you NEED the app \"lens buddy\" it allows you to have mul…',\n '@waynegadgett TRUSTED SELLER , IG 💯💯😍😍\\nRECCOMENDED GUYS BELI2 IPHONE DI WAYNE GADGET ❤️🧡💛💚💙💜',\n \"RT @ZackSnyder: Gal's first day on set in the costume July 2014, shot on my iPhone 6. I knew when I cast her back in the fall of 2013 she w…\",\n 'RT @kylegriffin1: Florida\\'s \\'Grim Reaper\\' lawyer sued Ron DeSantis over COVID. Now the governor\\'s attorneys want him sanctioned.\\n\\n\"The many…',\n '@waynegadgett 🍎 APPLE IPHONE WAYNE GADGET \\n💥 NO RECOND / REFURBISHED \\n\\nCOD: SELANGOR , KL , PUTRAJAYA\\n\\nBERMINAT IPH… https://t.co/fdo1lwTGDV',\n 'RT @Goodfellowltd: To celebrate our last 2020 giveaway and the launch of our Christmas video, we are giving away an iPhone 12 and a Samsung…',\n \"Check out this iPhone game I'm playing called Soccer Boss https://t.co/eyB6Jsn8bs\",\n '@TmarTn Goodluck guys 🙏❤ waiting for the iphone giveaway cause thats really my dream phone but i dont have enough t… https://t.co/2MZzWizhMR',\n \"again no iphone so can't compare much to apple watch but iirc apple watch isn't waterproof. In non pandemic times m… https://t.co/WYKRlPR66B\",\n '@waynegadgett 🍎 APPLE IPHONE WAYNE GADGET \\n💥 NO RECOND / REFURBISHED \\n\\nCOD: SELANGOR , KL , PUTRAJAYA\\n\\nBERMINAT IPH… https://t.co/UgzIZchIhP',\n '@tim_cook I have an iPhone 11 with LCD screen obviously and I have this little problem and I do not know if it will… https://t.co/xPUlR6NYZn',\n '@TmarTn Goodluck guys 🙏❤ waiting for the iphone giveaway cause thats really my dream phone but i dont have enough t… https://t.co/v63dUGvE6m',\n 'RT @jaboukie: the way you named your child after an iphone strong password',\n '@AizelKonArt Sydney is a computer savant. She is young, pretty, and successful. She creates apps to help her sister… https://t.co/Oq1AIcWDla',\n \"RT @OliverJHaslam: Developers – have you made your iPhone/iPad apps available in the Mac App Store via Apple silicon/Big Sur? I'm intereste…\",\n '#hashtag2 for iPhone 11 Pro Max Case Slim Soft Transparent Back Clear TPU Shockproof Protective Silicone Cover for… https://t.co/q1D1JzpgBx',\n '@TmarTn Goodluck guys 🙏❤ waiting for the iphone giveaway cause thats really my dream phone but i dont have enough t… https://t.co/GOrz6rKxXg',\n 'RT @Goodfellowltd: To celebrate our last 2020 giveaway and the launch of our Christmas video, we are giving away an iPhone 12 and a Samsung…',\n 'If you have kids &amp; an iPhone I have the website for you! The only trick is you really need to use a VPN so you can… https://t.co/CYOyiANWoo',\n '@bcarr It’s like an iPhone, get a new one every year~',\n 'Please Retweet! Buyer beware if you buy an IPhone with a trade-in. It can be an incredibly frustrating experience a… https://t.co/UWlsw7h2nD',\n \"RT @Rodney_Walker: #iOS 14.3: These are 16 #iPhone features you'll use every day https://t.co/ZJSdmgHdHI #Apple #iOS14_3 #Smartphone #Tech…\",\n '@googlenest So fast forward to now…it disconnected and won’t let me reconnect. Only other Bluetooth devices that ar… https://t.co/YzCaZ4QnUw',\n 'RT @Apple: Now available in two new sizes. iPhone 12 Pro Max and iPhone 12 mini.',\n '@DlCTATING why did u post this on your iphone?',\n 'RT @TheJessieWoo: Am I the only person not receiving new texts notifications with my iPhone?']"
     },
     "execution_count": 20,
     "metadata": {},
     "output_type": "execute_result"
    }
   ],
   "source": [
    "tweets_content = []\n",
    "sentiments = []\n",
    "for t in tweets:\n",
    "    text = t[\"text\"]\n",
    "    # print(text + \"\\n\")\n",
    "    tweets_content.append(t[\"text\"])\n",
    "tweets_content"
   ],
   "metadata": {
    "collapsed": false,
    "pycharm": {
     "name": "#%%\n"
    }
   }
  },
  {
   "cell_type": "markdown",
   "source": [
    "Now we use the tokens and other user data stored in *My First Project-f1fd24b13f57.json*\n",
    "to authorize and authenticate an API request to Google Cloud's Natural Language\n",
    "Processing API. This user data is created when an account is made at https://cloud.google.com/natural-language/docs/analyzing-sentiment"
   ],
   "metadata": {
    "collapsed": false,
    "pycharm": {
     "name": "#%% md\n"
    }
   }
  },
  {
   "cell_type": "code",
   "execution_count": 16,
   "outputs": [],
   "source": [
    "os.environ[\"GOOGLE_APPLICATION_CREDENTIALS\"] = \"My First Project-f1fd24b13f57.json\"\n",
    "\n",
    "client = language_v1.LanguageServiceClient()\n",
    "# # The text to analyze\n",
    "# text = u\"Hello, world!\""
   ],
   "metadata": {
    "collapsed": false,
    "pycharm": {
     "name": "#%%\n"
    }
   }
  },
  {
   "cell_type": "markdown",
   "source": [
    "We now use this API to calculate the sentiment of each of the tweets in the\n",
    "list."
   ],
   "metadata": {
    "collapsed": false,
    "pycharm": {
     "name": "#%% md\n"
    }
   }
  },
  {
   "cell_type": "code",
   "execution_count": 23,
   "outputs": [
    {
     "name": "stdout",
     "output_type": "stream",
     "text": [
      "sentiment score:  0.20000000298023224\n",
      "sentiment score:  -0.699999988079071\n",
      "sentiment score:  0.20000000298023224\n",
      "sentiment score:  0.0\n",
      "sentiment score:  0.0\n",
      "sentiment score:  0.20000000298023224\n",
      "sentiment score:  0.0\n",
      "sentiment score:  0.30000001192092896\n",
      "sentiment score:  -0.10000000149011612\n",
      "sentiment score:  0.10000000149011612\n",
      "sentiment score:  0.0\n",
      "sentiment score:  0.4000000059604645\n",
      "sentiment score:  0.0\n",
      "sentiment score:  0.4000000059604645\n",
      "sentiment score:  -0.6000000238418579\n",
      "sentiment score:  -0.30000001192092896\n",
      "sentiment score:  -0.800000011920929\n",
      "sentiment score:  0.0\n",
      "sentiment score:  0.30000001192092896\n",
      "sentiment score:  -0.5\n",
      "sentiment score:  0.0\n",
      "sentiment score:  -0.4000000059604645\n",
      "sentiment score:  0.0\n",
      "sentiment score:  0.0\n",
      "sentiment score:  -0.10000000149011612\n",
      "sentiment score:  0.0\n",
      "sentiment score:  -0.30000001192092896\n",
      "sentiment score:  -0.800000011920929\n",
      "sentiment score:  0.0\n",
      "sentiment score:  0.0\n",
      "sentiment score:  0.0\n",
      "sentiment score:  0.0\n",
      "sentiment score:  0.0\n",
      "sentiment score:  0.6000000238418579\n",
      "sentiment score:  0.4000000059604645\n",
      "sentiment score:  0.20000000298023224\n",
      "sentiment score:  -0.10000000149011612\n",
      "sentiment score:  0.4000000059604645\n",
      "sentiment score:  -0.10000000149011612\n",
      "sentiment score:  -0.800000011920929\n",
      "sentiment score:  0.0\n",
      "sentiment score:  0.20000000298023224\n",
      "sentiment score:  0.20000000298023224\n",
      "sentiment score:  -0.5\n",
      "sentiment score:  -0.8999999761581421\n",
      "sentiment score:  -0.10000000149011612\n",
      "sentiment score:  -0.10000000149011612\n",
      "sentiment score:  -0.699999988079071\n",
      "sentiment score:  0.30000001192092896\n",
      "sentiment score:  -0.4000000059604645\n",
      "sentiment score:  0.20000000298023224\n",
      "sentiment score:  0.0\n",
      "sentiment score:  0.0\n",
      "sentiment score:  0.0\n",
      "sentiment score:  -0.5\n",
      "sentiment score:  0.30000001192092896\n",
      "sentiment score:  -0.30000001192092896\n",
      "sentiment score:  -0.5\n",
      "sentiment score:  0.5\n",
      "sentiment score:  0.10000000149011612\n",
      "sentiment score:  0.20000000298023224\n",
      "sentiment score:  -0.5\n",
      "sentiment score:  0.10000000149011612\n",
      "sentiment score:  -0.800000011920929\n",
      "sentiment score:  0.10000000149011612\n",
      "sentiment score:  0.0\n",
      "sentiment score:  0.30000001192092896\n",
      "sentiment score:  0.0\n",
      "sentiment score:  0.0\n",
      "sentiment score:  -0.30000001192092896\n",
      "sentiment score:  0.6000000238418579\n",
      "sentiment score:  0.0\n",
      "sentiment score:  0.10000000149011612\n",
      "sentiment score:  -0.4000000059604645\n",
      "sentiment score:  0.0\n",
      "sentiment score:  0.20000000298023224\n",
      "sentiment score:  0.0\n",
      "sentiment score:  -0.20000000298023224\n",
      "sentiment score:  0.10000000149011612\n",
      "sentiment score:  0.0\n",
      "sentiment score:  0.20000000298023224\n",
      "sentiment score:  0.6000000238418579\n",
      "sentiment score:  -0.5\n",
      "sentiment score:  0.10000000149011612\n",
      "sentiment score:  0.0\n",
      "sentiment score:  0.6000000238418579\n",
      "sentiment score:  0.0\n",
      "sentiment score:  0.4000000059604645\n",
      "sentiment score:  0.0\n",
      "sentiment score:  0.20000000298023224\n",
      "sentiment score:  0.6000000238418579\n",
      "sentiment score:  0.0\n",
      "sentiment score:  0.20000000298023224\n",
      "sentiment score:  0.6000000238418579\n",
      "sentiment score:  -0.6000000238418579\n",
      "sentiment score:  0.20000000298023224\n",
      "sentiment score:  -0.5\n",
      "sentiment score:  0.0\n",
      "sentiment score:  -0.6000000238418579\n",
      "sentiment score:  -0.6000000238418579\n"
     ]
    }
   ],
   "source": [
    "for text in tweets_content:\n",
    "\n",
    "    document = language_v1.Document(content=text, type_=language_v1.Document.Type.PLAIN_TEXT)\n",
    "\n",
    "    # Detects the sentiment of the text\n",
    "    sentiment = client.analyze_sentiment(request={'document': document}).document_sentiment\n",
    "\n",
    "    # print(\"Text: {}\".format(text))\n",
    "    # print(\"Sentiment: {}, {}\".format(sentiment.score, sentiment.magnitude))\n",
    "    sentiments.append(sentiment.score)\n",
    "    print(\"sentiment score: \", sentiment.score)"
   ],
   "metadata": {
    "collapsed": false,
    "pycharm": {
     "name": "#%%\n"
    }
   }
  },
  {
   "cell_type": "markdown",
   "source": [
    "Finally, we write the tweets and the corresponding sentiments into a csv file.\n",
    "There is one csv file for each date that we parsed."
   ],
   "metadata": {
    "collapsed": false,
    "pycharm": {
     "name": "#%% md\n"
    }
   }
  },
  {
   "cell_type": "code",
   "execution_count": 24,
   "outputs": [
    {
     "name": "stdout",
     "output_type": "stream",
     "text": [
      "Average sentiment -0.03235294005157901\n"
     ]
    }
   ],
   "source": [
    "with open('dec18.csv', 'w') as csvfile:\n",
    "    writer = csv.writer(csvfile)\n",
    "    for i in range(len(tweets_content)):\n",
    "        writer.writerow([tweets_content[i].encode(\"utf-8\"), sentiments[i]])\n",
    "\n",
    "print(\"Average sentiment\", sum(sentiments) / len(sentiments))\n"
   ],
   "metadata": {
    "collapsed": false,
    "pycharm": {
     "name": "#%%\n"
    }
   }
  }
 ],
 "metadata": {
  "kernelspec": {
   "display_name": "Python 3",
   "language": "python",
   "name": "python3"
  },
  "language_info": {
   "codemirror_mode": {
    "name": "ipython",
    "version": 2
   },
   "file_extension": ".py",
   "mimetype": "text/x-python",
   "name": "python",
   "nbconvert_exporter": "python",
   "pygments_lexer": "ipython2",
   "version": "2.7.6"
  }
 },
 "nbformat": 4,
 "nbformat_minor": 0
}